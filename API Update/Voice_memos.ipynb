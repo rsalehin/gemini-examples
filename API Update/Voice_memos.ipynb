{
  "cells": [
    {
      "cell_type": "markdown",
      "metadata": {
        "id": "Tce3stUlHN0L"
      },
      "source": [
        "##### Copyright 2025 Google LLC."
      ]
    },
    {
      "cell_type": "code",
      "execution_count": null,
      "metadata": {
        "cellView": "form",
        "id": "tuOe1ymfHZPu"
      },
      "outputs": [],
      "source": [
        "#@title Licensed under the Apache License, Version 2.0 (the \"License\");\n",
        "# you may not use this file except in compliance with the License.\n",
        "# You may obtain a copy of the License at\n",
        "#\n",
        "# https://www.apache.org/licenses/LICENSE-2.0\n",
        "#\n",
        "# Unless required by applicable law or agreed to in writing, software\n",
        "# distributed under the License is distributed on an \"AS IS\" BASIS,\n",
        "# WITHOUT WARRANTIES OR CONDITIONS OF ANY KIND, either express or implied.\n",
        "# See the License for the specific language governing permissions and\n",
        "# limitations under the License."
      ]
    },
    {
      "cell_type": "markdown",
      "metadata": {
        "id": "084u8u0DpBlo"
      },
      "source": [
        "# Voice memos"
      ]
    },
    {
      "cell_type": "markdown",
      "metadata": {
        "id": "wnQ_LVlzIeXo"
      },
      "source": [
        "<a target=\"_blank\" href=\"https://colab.research.google.com/github/google-gemini/cookbook/blob/main/examples/Voice_memos.ipynb\"><img src=\"https://colab.research.google.com/assets/colab-badge.svg\" height=30/></a>"
      ]
    },
    {
      "cell_type": "markdown",
      "metadata": {
        "id": "q7QvXQMrIhuZ"
      },
      "source": [
        "This notebook provides a quick example of how to work with audio and text files in the same prompt. You'll use the Gemini API to help you generate ideas for your next blog post, based on voice memos you recorded on your phone, and previous articles you've written."
      ]
    },
    {
      "cell_type": "code",
      "execution_count": 1,
      "metadata": {
        "id": "qLuL9m7KhvxR"
      },
      "outputs": [],
      "source": [
        "%pip install -U -q \"google-genai>=1.0.0\""
      ]
    },
    {
      "cell_type": "code",
      "execution_count": 2,
      "metadata": {
        "id": "ATIbQM0NHhkj"
      },
      "outputs": [],
      "source": [
        "from google import genai\n",
        "from google.genai.types import GenerateContentConfig\n",
        "from google.colab import userdata\n",
        "import time\n"
      ]
    },
    {
      "cell_type": "markdown",
      "metadata": {
        "id": "l8g4hTRotheH"
      },
      "source": [
        "### Setup your API key\n",
        "\n",
        "To run the following cell, your API key must be stored it in a Colab Secret named `GOOGLE_API_KEY`. If you don't already have an API key, or you're not sure how to create a Colab Secret, see [Authentication](https://github.com/google-gemini/cookbook/blob/main/quickstarts/Authentication.ipynb) for an example."
      ]
    },
    {
      "cell_type": "code",
      "execution_count": 3,
      "metadata": {
        "id": "d6lYXRcjthKV"
      },
      "outputs": [],
      "source": [
        "# Initialize client\n",
        "GOOGLE_API_KEY = userdata.get('GOOGLE_API_KEY')\n",
        "client = genai.Client(api_key=GOOGLE_API_KEY)"
      ]
    },
    {
      "cell_type": "markdown",
      "metadata": {
        "id": "Mim5jZB6E1ag"
      },
      "source": [
        "Install PDF processing tools."
      ]
    },
    {
      "cell_type": "code",
      "execution_count": 4,
      "metadata": {
        "id": "4YjBq1mCE2cX",
        "outputId": "19d78be1-969b-4175-f331-f4d3cba434ec",
        "colab": {
          "base_uri": "https://localhost:8080/"
        }
      },
      "outputs": [
        {
          "output_type": "stream",
          "name": "stdout",
          "text": [
            "Reading package lists... Done\n",
            "Building dependency tree... Done\n",
            "Reading state information... Done\n",
            "The following NEW packages will be installed:\n",
            "  poppler-utils\n",
            "0 upgraded, 1 newly installed, 0 to remove and 30 not upgraded.\n",
            "Need to get 186 kB of archives.\n",
            "After this operation, 696 kB of additional disk space will be used.\n",
            "Get:1 http://archive.ubuntu.com/ubuntu jammy-updates/main amd64 poppler-utils amd64 22.02.0-2ubuntu0.6 [186 kB]\n",
            "Fetched 186 kB in 1s (194 kB/s)\n",
            "Selecting previously unselected package poppler-utils.\n",
            "(Reading database ... 126213 files and directories currently installed.)\n",
            "Preparing to unpack .../poppler-utils_22.02.0-2ubuntu0.6_amd64.deb ...\n",
            "Unpacking poppler-utils (22.02.0-2ubuntu0.6) ...\n",
            "Setting up poppler-utils (22.02.0-2ubuntu0.6) ...\n",
            "Processing triggers for man-db (2.10.2-1) ...\n"
          ]
        }
      ],
      "source": [
        "!apt install poppler-utils"
      ]
    },
    {
      "cell_type": "markdown",
      "metadata": {
        "id": "MNvhBdoDFnTC"
      },
      "source": [
        "## Upload your audio and text files\n"
      ]
    },
    {
      "cell_type": "code",
      "execution_count": 5,
      "metadata": {
        "id": "V4XeFdX1rxaE"
      },
      "outputs": [],
      "source": [
        "# Download files\n",
        "!wget -q https://storage.googleapis.com/generativeai-downloads/data/Walking_thoughts_3.m4a\n",
        "!wget -q https://storage.googleapis.com/generativeai-downloads/data/A_Possible_Future_for_Online_Content.pdf\n",
        "!wget -q https://storage.googleapis.com/generativeai-downloads/data/Unanswered_Questions_and_Endless_Possibilities.pdf"
      ]
    },
    {
      "cell_type": "code",
      "execution_count": 7,
      "metadata": {
        "id": "_HzrDdp2Q1Cu"
      },
      "outputs": [],
      "source": [
        "audio_file_name = \"Walking_thoughts_3.m4a\"\n",
        "audio_file = client.files.upload(file=\"Walking_thoughts_3.m4a\")"
      ]
    },
    {
      "cell_type": "markdown",
      "metadata": {
        "id": "MpAU9V3YEvXh"
      },
      "source": [
        "## Extract text from the PDFs"
      ]
    },
    {
      "cell_type": "code",
      "execution_count": 8,
      "metadata": {
        "id": "NttNb-M_ExlK"
      },
      "outputs": [],
      "source": [
        "# Convert PDFs to text\n",
        "!pdftotext -q A_Possible_Future_for_Online_Content.pdf\n",
        "!pdftotext -q Unanswered_Questions_and_Endless_Possibilities.pdf"
      ]
    },
    {
      "cell_type": "code",
      "execution_count": 9,
      "metadata": {
        "id": "LYA-OlD6Gw3v"
      },
      "outputs": [],
      "source": [
        "# Upload files\n",
        "blog_file = client.files.upload(file=\"A_Possible_Future_for_Online_Content.txt\")\n"
      ]
    },
    {
      "cell_type": "code",
      "execution_count": 10,
      "metadata": {
        "id": "9Sf63anDG317"
      },
      "outputs": [],
      "source": [
        "blog_file2 = client.files.upload(file=\"Unanswered_Questions_and_Endless_Possibilities.txt\")"
      ]
    },
    {
      "cell_type": "markdown",
      "metadata": {
        "id": "EPPOECHzsIGJ"
      },
      "source": [
        "## System instructions\n",
        "\n",
        "Write a detailed system instruction to configure the model."
      ]
    },
    {
      "cell_type": "code",
      "execution_count": 11,
      "metadata": {
        "id": "y5zh5WzwGiR5"
      },
      "outputs": [],
      "source": [
        "# System instruction\n",
        "system_instruction = \"\"\"\n",
        "Objective: Transform raw thoughts and ideas into polished, engaging blog posts that capture a writer's unique style and voice.\n",
        "\n",
        "Input:\n",
        "- Example Blog Posts (1-5): Guides style preferences (word choice, sentence structure, voice).\n",
        "- Audio Clips: Brainstorming thoughts in natural speech.\n",
        "\n",
        "Output:\n",
        "- Blog Post Draft (500-800 words):\n",
        "  - Clear, concise, engaging writing.\n",
        "  - Consistent tone/style with examples.\n",
        "  - Logical structure with sections.\n",
        "  - Strong conclusion.\n",
        "\n",
        "Process:\n",
        "1. Style Analysis: Analyze example posts for vocabulary, sentence structure, tone.\n",
        "2. Audio Transcription: Extract key ideas from audio.\n",
        "3. Draft Generation: Combine insights into a structured draft.\n",
        "\"\"\""
      ]
    },
    {
      "cell_type": "markdown",
      "metadata": {
        "id": "CuEXqOnYzhM-"
      },
      "source": [
        "## Generate Content"
      ]
    },
    {
      "cell_type": "code",
      "execution_count": 13,
      "metadata": {
        "id": "63ec84f8e8a8",
        "outputId": "24f3c90a-9ca7-4816-a3f3-deb8873d8443",
        "colab": {
          "base_uri": "https://localhost:8080/"
        }
      },
      "outputs": [
        {
          "output_type": "stream",
          "name": "stdout",
          "text": [
            "Okay, here's a draft blog post based on your provided materials. I've tried to capture your conversational tone and focus on the \"Write to Think\" concept, framing it around your earlier experiences.\n",
            "\n",
            "**Title: Embracing the Mess: Why \"Writing to Think\" is the Ultimate Productivity Hack**\n",
            "\n",
            "Early in my career, I was obsessed with the final product. I poured hours into visions, roadmaps, and meticulously planned projects.  Coming straight from school, I was wired to believe that an assignment, once given, had to be executed perfectly. There were no \"take-backsies.\" You got the brief, you delivered, and you were graded on it.\n",
            "\n",
            "The reality of the workforce hit me hard.  Projects got scrapped. Priorities shifted.  Sometimes, entire initiatives were killed weeks, even months, into development. And, to be honest, it felt like a colossal waste of time. All that effort, all those late nights, for *nothing*. I struggled to reconcile this with my ingrained belief that every task needed to have a tangible, lasting output. None of it might matter at the end of the day. None of it might be used.\n",
            "\n",
            "Sound familiar?\n",
            "\n",
            "It took me a while to get over that initial frustration. But it wasn't until recently, joining a new team with a strong culture of \"Write to Think,\" that I truly understood the value of all that \"wasted\" effort.\n",
            "\n",
            "\"Write to Think\" flips the script on traditional productivity.  It's not simply about acknowledging that priorities change and things get cut (although that's part of it). It's about recognizing that the act of *creation itself* is the valuable part. The content you produce, even if it never sees the light of day, is an essential part of the process of becoming better at what you do. It’s honing your skills, sharpening your understanding, and refining your ideas.\n",
            "\n",
            "This means embracing the mess. It means writing more, writing earlier, and writing often. But, crucially, it means writing without the pressure of needing to produce a perfect, polished final product every time. It means being willing to scrap it and move on once it's served its purpose – to clarify your thinking.\n",
            "\n",
            "How do we extend this way of thinking to all aspects of our work? Or, how do we speed up that learning and growing?\n",
            "\n",
            "The \"Write to Think\" culture answers this by encouraging us to *write more*. Not necessarily *do* more, but *write* more.\n",
            "\n",
            "Here's what that looks like in practice:\n",
            "\n",
            "*   **Early & Often:** Don't wait until you have a fully formed idea. Start writing as soon as you have a glimmer. The act of writing will help you flesh it out.\n",
            "*   **Embrace Imperfection:** The goal isn't to create a masterpiece every time. It's to explore ideas, challenge assumptions, and refine your thinking.\n",
            "*   **Don't Be Afraid to Kill Your Darlings:** If something isn't working, let it go. The time wasn't wasted – it helped you get closer to the right answer (or, at least, eliminate a wrong one).\n",
            "\n",
            "The \"Write to Think\" philosophy ties in nicely with iterative processes and \"learning by doing.\" But it offers a powerful reframe: there's no such thing as \"throwaway work.\" It's all contributing to your growth and development.\n",
            "\n",
            "I’m constantly talking about it and going back on it.\n",
            "\n",
            "So, I call out the importance of re-framing the mindset away from “throwaway work”.\n",
            "\n",
            "For \"young Jaclyn,\" who felt defeated by projects that never launched, this would have been a game-changer. I needed this philosophy as a young professional to realize that it’s all helping you hone your skills and get better over time.\n",
            "\n",
            "What do you think?\n",
            "\n"
          ]
        }
      ],
      "source": [
        "# Generate content\n",
        "prompt = \"Draft my next blog post based on my thoughts in this audio file and these two previous blog posts I wrote.\"\n",
        "\n",
        "response = client.models.generate_content(\n",
        "    model=\"gemini-2.0-flash\",\n",
        "    contents=[prompt, blog_file, blog_file2, audio_file],\n",
        "    config=GenerateContentConfig(\n",
        "        system_instruction=system_instruction,\n",
        "        httpOptions={\"timeout\": 7200}\n",
        "    )\n",
        ")\n",
        "\n",
        "print(response.text)"
      ]
    },
    {
      "cell_type": "code",
      "source": [
        "# Clean up files\n",
        "client.files.delete(name=audio_file.name)\n",
        "client.files.delete(name=blog_file.name)\n",
        "client.files.delete(name=blog_file2.name)"
      ],
      "metadata": {
        "id": "uYujaEcIWEYx",
        "outputId": "7c5440d7-00ca-4b5c-b842-c770f4817e30",
        "colab": {
          "base_uri": "https://localhost:8080/"
        }
      },
      "execution_count": 14,
      "outputs": [
        {
          "output_type": "execute_result",
          "data": {
            "text/plain": [
              "DeleteFileResponse()"
            ]
          },
          "metadata": {},
          "execution_count": 14
        }
      ]
    },
    {
      "cell_type": "markdown",
      "metadata": {
        "id": "K5oUCqb6IUnH"
      },
      "source": [
        "## Learning more\n",
        "\n",
        "* Learn more about the [File API](https://github.com/google-gemini/cookbook/blob/main/quickstarts/File_API.ipynb) with the quickstart."
      ]
    }
  ],
  "metadata": {
    "colab": {
      "name": "Voice_memos.ipynb",
      "toc_visible": true,
      "provenance": []
    },
    "kernelspec": {
      "display_name": "Python 3",
      "name": "python3"
    }
  },
  "nbformat": 4,
  "nbformat_minor": 0
}